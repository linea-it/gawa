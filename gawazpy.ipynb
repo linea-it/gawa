{
 "cells": [
  {
   "cell_type": "markdown",
   "metadata": {},
   "source": [
    "## Starting the ga-wazpy code"
   ]
  },
  {
   "cell_type": "markdown",
   "metadata": {},
   "source": [
    "Setting a few packages. The package scikit-image is needed. Install it locally using conda <br>\n",
    "in the terminal and after restart the kernel. \n",
    "\n",
    "Run these 2 lines below in terminal and after that restart kernel:\n",
    "python -m pip install -U --user pip\n",
    "python -m pip install -U --user scikit-image\n",
    "\n",
    "Transformation from DECam g and r to V absolute magnitude: V = g - 0.58*(g-r) - 0.01 (Jester 2005, from SDSS to V)"
   ]
  },
  {
   "cell_type": "code",
   "execution_count": 1,
   "metadata": {},
   "outputs": [],
   "source": [
    "# Rodar no terminal e depois reiniciar o kernel:\n",
    "# python -m pip install -U --user pip\n",
    "# python -m pip install -U --user scikit-image\n",
    "# pip install --user parsl\n",
    "\n",
    "import numpy as np\n",
    "import yaml\n",
    "import os\n",
    "import astropy.io.fits as fits\n",
    "import healpy as hp\n",
    "from astropy.table import Table\n",
    "import json\n",
    "import matplotlib as mpl\n",
    "from multithread import split_equal_area_in_threads\n",
    "from utils import hpx_split_survey #, split_survey_from_hpx\n",
    "from utils import read_FitsCat, create_directory #, concatenate_fits\n",
    "from utils import create_mosaic_footprint, create_survey_footprint_from_mosaic\n",
    "from utils import add_key_to_fits, concatenate_clusters\n",
    "from utils import tile_radius, create_tile_specs #, filter_hpx_tile\n",
    "from utils import read_mosaicFitsCat_in_disc, create_directory \n",
    "from utils import read_mosaicFootprint_in_disc #, read_FitsFootprint\n",
    "from utils import add_clusters_unique_id\n",
    "from gawa import compute_cmd_masks, compute_dslices, create_gawa_directories\n",
    "from gawa import gawa_tile, tile_dir_name\n",
    "from gawa import cl_duplicates_filtering\n",
    "\n",
    "import parsl\n",
    "from parsl.app.app import python_app, bash_app\n",
    "from parsl.configs.local_threads import config\n",
    "from time import time\n",
    "t0 = time()\n",
    "parsl.load(config)\n",
    "\n",
    "mpl.rcParams['legend.numpoints'] = 1\n",
    "cmap = mpl.cm.get_cmap(\"inferno_r\")"
   ]
  },
  {
   "cell_type": "code",
   "execution_count": 7,
   "metadata": {},
   "outputs": [],
   "source": [
    "# @python_app\n",
    "def gawa_thread_call(confg, thread_id):\n",
    "\n",
    "    # read config file\n",
    "    with open(confg) as fstream:\n",
    "        param_data = yaml.load(fstream)\n",
    "        globals().update(param_data)\n",
    "\n",
    "    workdir = out_paths['workdir']\n",
    "\n",
    "    ####\n",
    "    all_tiles = read_FitsCat(os.path.join(workdir, admin['tiling']['tiles_filename']))\n",
    "    tiles = all_tiles[(all_tiles['thread_id']==int(thread_id))]    \n",
    "    print ('THREAD ', int(thread_id))\n",
    "\n",
    "    for it in range(0, len(tiles)):\n",
    "        tile_dir = tile_dir_name(workdir, int(tiles['id'][it]) )\n",
    "        print ('..... Tile ', int(tiles['id'][it]))\n",
    "\n",
    "        create_directory(tile_dir)\n",
    "        create_gawa_directories(tile_dir, out_paths['gawa'])\n",
    "        out_paths['tile_dir'] = tile_dir # local update \n",
    "\n",
    "        tile_radius_deg = tile_radius(admin['tiling'])\n",
    "        tile_specs = create_tile_specs(tiles[it], tile_radius_deg, admin)\n",
    "        data_star_tile = read_mosaicFitsCat_in_disc(starcat[survey], tiles[it], tile_radius_deg)   \n",
    "        data_fp_tile   = read_mosaicFootprint_in_disc (footprint[survey], tiles[it], tile_radius_deg)\n",
    "\n",
    "        if verbose>=2:\n",
    "            t = Table (data_star_tile)#, names=names)\n",
    "            t.write(os.path.join(tile_dir, out_paths['gawa']['files'],\"starcat.fits\"),overwrite=True)\n",
    "            t = Table (data_fp_tile)#, names=names)\n",
    "            t.write(os.path.join(tile_dir, out_paths['gawa']['files'], \"footprint.fits\"),overwrite=True)\n",
    "  \n",
    "        gawa_tile(tile_specs, isochrone_masks[survey], data_star_tile, starcat[survey], \\\n",
    "                  data_fp_tile, footprint[survey], gawa_cfg, admin, out_paths, verbose)"
   ]
  },
  {
   "cell_type": "code",
   "execution_count": 8,
   "metadata": {},
   "outputs": [],
   "source": [
    "def gawa_concatenate(confg):\n",
    "    # read config file\n",
    "    with open(confg) as fstream:\n",
    "        param_data = yaml.load(fstream)\n",
    "        globals().update(param_data)\n",
    "\n",
    "    # concatenate all tiles \n",
    "    all_tiles = read_FitsCat(os.path.join(out_paths['workdir'], admin['tiling']['tiles_filename']))\n",
    "    list_results = []\n",
    "    for it in range(0, len(all_tiles)):\n",
    "        tile_dir = tile_dir_name(out_paths['workdir'], int(all_tiles['id'][it]) )\n",
    "        list_results.append(os.path.join(tile_dir, out_paths['gawa']['results']))\n",
    "    concatenate_clusters(list_results, os.path.join(out_paths['workdir'],'clusters0.fits')) \n",
    "\n",
    "    # final filtering \n",
    "    data_clusters0 = read_FitsCat(os.path.join(out_paths['workdir'],'clusters0.fits'))\n",
    "    data_clusters0f = cl_duplicates_filtering(data_clusters0, gawa_cfg, 'survey')\n",
    "    # create unique index with decreasing SNR \n",
    "    data_clusters = add_clusters_unique_id(data_clusters0f, gawa_cfg['clkeys'])\n",
    "    data_clusters.write(os.path.join(out_paths['workdir'],'clusters.fits'), overwrite=True)"
   ]
  },
  {
   "cell_type": "code",
   "execution_count": 16,
   "metadata": {},
   "outputs": [
    {
     "name": "stdout",
     "output_type": "stream",
     "text": [
      "Survey :  MOCK\n",
      "workdir :  /home/jovyan/notebooks/public/Pieres/gawa_detect_sim/\n",
      "Ntiles / Nthreads =  13  /  10\n",
      "Compute CMD masks\n",
      ".....Mask distance (kpc) =  81.04\n",
      ".....Mask distance (kpc) =  89.72\n",
      ".....Mask distance (kpc) =  99.39\n",
      ".....Mask distance (kpc) =  110.17\n",
      ".....Mask distance (kpc) =  122.19\n",
      "----  {'mosaic': {'dir': '/home/jovyan/notebooks/public/Pieres/gawa_detect_sim/raw_cats_corr/', 'Nside': 32, 'nest': True}, 'keys': {'key_ra': 'ra', 'key_dec': 'dec', 'key_mag_g': 'mag_g_with_err', 'key_mag_r': 'mag_r_with_err'}}\n",
      "THREAD  1\n",
      "..... Tile  3\n"
     ]
    },
    {
     "ename": "ValueError",
     "evalue": "invalid literal for int() with base 10: 'des_mockcat_for_detection'",
     "output_type": "error",
     "traceback": [
      "\u001b[0;31m---------------------------------------------------------------------------\u001b[0m",
      "\u001b[0;31mValueError\u001b[0m                                Traceback (most recent call last)",
      "\u001b[0;32m<ipython-input-16-890b0d7ecabd>\u001b[0m in \u001b[0;36m<module>\u001b[0;34m()\u001b[0m\n\u001b[1;32m     54\u001b[0m \u001b[0mprint\u001b[0m\u001b[0;34m(\u001b[0m\u001b[0;34m'---- '\u001b[0m\u001b[0;34m,\u001b[0m \u001b[0mstarcat\u001b[0m\u001b[0;34m[\u001b[0m\u001b[0msurvey\u001b[0m\u001b[0;34m]\u001b[0m\u001b[0;34m)\u001b[0m\u001b[0;34m\u001b[0m\u001b[0;34m\u001b[0m\u001b[0m\n\u001b[1;32m     55\u001b[0m \u001b[0;32mfor\u001b[0m \u001b[0mi\u001b[0m \u001b[0;32min\u001b[0m \u001b[0mnp\u001b[0m\u001b[0;34m.\u001b[0m\u001b[0munique\u001b[0m\u001b[0;34m(\u001b[0m\u001b[0mthread_ids\u001b[0m\u001b[0;34m)\u001b[0m\u001b[0;34m:\u001b[0m\u001b[0;34m\u001b[0m\u001b[0;34m\u001b[0m\u001b[0m\n\u001b[0;32m---> 56\u001b[0;31m     \u001b[0mgawa_thread_call\u001b[0m\u001b[0;34m(\u001b[0m\u001b[0mconfg\u001b[0m\u001b[0;34m,\u001b[0m \u001b[0mi\u001b[0m\u001b[0;34m)\u001b[0m\u001b[0;34m\u001b[0m\u001b[0;34m\u001b[0m\u001b[0m\n\u001b[0m",
      "\u001b[0;32m<ipython-input-7-ff05e4e35550>\u001b[0m in \u001b[0;36mgawa_thread_call\u001b[0;34m(confg, thread_id)\u001b[0m\n\u001b[1;32m     24\u001b[0m         \u001b[0mtile_radius_deg\u001b[0m \u001b[0;34m=\u001b[0m \u001b[0mtile_radius\u001b[0m\u001b[0;34m(\u001b[0m\u001b[0madmin\u001b[0m\u001b[0;34m[\u001b[0m\u001b[0;34m'tiling'\u001b[0m\u001b[0;34m]\u001b[0m\u001b[0;34m)\u001b[0m\u001b[0;34m\u001b[0m\u001b[0;34m\u001b[0m\u001b[0m\n\u001b[1;32m     25\u001b[0m         \u001b[0mtile_specs\u001b[0m \u001b[0;34m=\u001b[0m \u001b[0mcreate_tile_specs\u001b[0m\u001b[0;34m(\u001b[0m\u001b[0mtiles\u001b[0m\u001b[0;34m[\u001b[0m\u001b[0mit\u001b[0m\u001b[0;34m]\u001b[0m\u001b[0;34m,\u001b[0m \u001b[0mtile_radius_deg\u001b[0m\u001b[0;34m,\u001b[0m \u001b[0madmin\u001b[0m\u001b[0;34m)\u001b[0m\u001b[0;34m\u001b[0m\u001b[0;34m\u001b[0m\u001b[0m\n\u001b[0;32m---> 26\u001b[0;31m         \u001b[0mdata_star_tile\u001b[0m \u001b[0;34m=\u001b[0m \u001b[0mread_mosaicFitsCat_in_disc\u001b[0m\u001b[0;34m(\u001b[0m\u001b[0mstarcat\u001b[0m\u001b[0;34m[\u001b[0m\u001b[0msurvey\u001b[0m\u001b[0;34m]\u001b[0m\u001b[0;34m,\u001b[0m \u001b[0mtiles\u001b[0m\u001b[0;34m[\u001b[0m\u001b[0mit\u001b[0m\u001b[0;34m]\u001b[0m\u001b[0;34m,\u001b[0m \u001b[0mtile_radius_deg\u001b[0m\u001b[0;34m)\u001b[0m\u001b[0;34m\u001b[0m\u001b[0;34m\u001b[0m\u001b[0m\n\u001b[0m\u001b[1;32m     27\u001b[0m         \u001b[0mdata_fp_tile\u001b[0m   \u001b[0;34m=\u001b[0m \u001b[0mread_mosaicFootprint_in_disc\u001b[0m \u001b[0;34m(\u001b[0m\u001b[0mfootprint\u001b[0m\u001b[0;34m[\u001b[0m\u001b[0msurvey\u001b[0m\u001b[0;34m]\u001b[0m\u001b[0;34m,\u001b[0m \u001b[0mtiles\u001b[0m\u001b[0;34m[\u001b[0m\u001b[0mit\u001b[0m\u001b[0;34m]\u001b[0m\u001b[0;34m,\u001b[0m \u001b[0mtile_radius_deg\u001b[0m\u001b[0;34m)\u001b[0m\u001b[0;34m\u001b[0m\u001b[0;34m\u001b[0m\u001b[0m\n\u001b[1;32m     28\u001b[0m \u001b[0;34m\u001b[0m\u001b[0m\n",
      "\u001b[0;32m/archive/notebooks/public/Pieres/gawa_detect_sim/utils.py\u001b[0m in \u001b[0;36mread_mosaicFitsCat_in_disc\u001b[0;34m(galcat, tile, radius_deg)\u001b[0m\n\u001b[1;32m     51\u001b[0m     \u001b[0mgdir\u001b[0m \u001b[0;34m=\u001b[0m \u001b[0mgalcat\u001b[0m\u001b[0;34m[\u001b[0m\u001b[0;34m'mosaic'\u001b[0m\u001b[0;34m]\u001b[0m\u001b[0;34m[\u001b[0m\u001b[0;34m'dir'\u001b[0m\u001b[0;34m]\u001b[0m\u001b[0;34m\u001b[0m\u001b[0;34m\u001b[0m\u001b[0m\n\u001b[1;32m     52\u001b[0m     \u001b[0mprint\u001b[0m\u001b[0;34m(\u001b[0m\u001b[0;34m'---XX'\u001b[0m\u001b[0;34m,\u001b[0m \u001b[0mgdir\u001b[0m\u001b[0;34m)\u001b[0m\u001b[0;34m\u001b[0m\u001b[0;34m\u001b[0m\u001b[0m\n\u001b[0;32m---> 53\u001b[0;31m     \u001b[0mraw_list\u001b[0m \u001b[0;34m=\u001b[0m \u001b[0mnp\u001b[0m\u001b[0;34m.\u001b[0m\u001b[0marray\u001b[0m\u001b[0;34m(\u001b[0m\u001b[0mos\u001b[0m\u001b[0;34m.\u001b[0m\u001b[0mlistdir\u001b[0m\u001b[0;34m(\u001b[0m\u001b[0mgdir\u001b[0m\u001b[0;34m)\u001b[0m\u001b[0;34m)\u001b[0m\u001b[0;34m\u001b[0m\u001b[0;34m\u001b[0m\u001b[0m\n\u001b[0m\u001b[1;32m     54\u001b[0m     \u001b[0mprint\u001b[0m\u001b[0;34m(\u001b[0m\u001b[0;34m'---XXX'\u001b[0m\u001b[0;34m,\u001b[0m \u001b[0mraw_list\u001b[0m\u001b[0;34m)\u001b[0m\u001b[0;34m\u001b[0m\u001b[0;34m\u001b[0m\u001b[0m\n\u001b[1;32m     55\u001b[0m     \u001b[0mhpix_fits\u001b[0m \u001b[0;34m=\u001b[0m \u001b[0mnp\u001b[0m\u001b[0;34m.\u001b[0m\u001b[0marray\u001b[0m\u001b[0;34m(\u001b[0m\u001b[0;34m[\u001b[0m\u001b[0mos\u001b[0m\u001b[0;34m.\u001b[0m\u001b[0mpath\u001b[0m\u001b[0;34m.\u001b[0m\u001b[0msplitext\u001b[0m\u001b[0;34m(\u001b[0m\u001b[0mx\u001b[0m\u001b[0;34m)\u001b[0m\u001b[0;34m[\u001b[0m\u001b[0;36m0\u001b[0m\u001b[0;34m]\u001b[0m \u001b[0;32mfor\u001b[0m \u001b[0mx\u001b[0m \u001b[0;32min\u001b[0m \u001b[0mraw_list\u001b[0m\u001b[0;34m]\u001b[0m\u001b[0;34m)\u001b[0m\u001b[0;34m.\u001b[0m\u001b[0mastype\u001b[0m\u001b[0;34m(\u001b[0m\u001b[0mint\u001b[0m\u001b[0;34m)\u001b[0m\u001b[0;34m\u001b[0m\u001b[0;34m\u001b[0m\u001b[0m\n",
      "\u001b[0;31mValueError\u001b[0m: invalid literal for int() with base 10: 'des_mockcat_for_detection'"
     ]
    }
   ],
   "source": [
    "# read config file as online argument \n",
    "confg = \"gawa.cfg\" #sys.argv[1]\n",
    "\n",
    "# read config file\n",
    "with open(confg) as fstream:\n",
    "    param_data = yaml.load(fstream)\n",
    "globals().update(param_data)\n",
    "\n",
    "# Working & output directories \n",
    "workdir = out_paths['workdir']\n",
    "create_directory(workdir)\n",
    "create_directory(os.path.join(workdir, 'tiles'))\n",
    "print ('Survey : ', survey)\n",
    "print ('workdir : ', workdir)\n",
    "tiles_filename = os.path.join(workdir, admin['tiling']['tiles_filename'])\n",
    "\n",
    "# store config file in workdir\n",
    "with open(os.path.join(workdir, 'gawa.cfg'), 'w') as outfile:\n",
    "    json.dump(param_data, outfile)\n",
    "\n",
    "# create required data structure if not exist and update config \n",
    "if not input_data_structure[survey]['footprint_hpx_mosaic']:\n",
    "    create_mosaic_footprint(footprint[survey], os.path.join(workdir, 'footprint'))\n",
    "    param_data['footprint'][survey]['mosaic']['dir'] = os.path.join(workdir, 'footprint')\n",
    "with open(os.path.join(workdir, 'gawa.cfg'), 'w') as outfile:\n",
    "    json.dump(param_data, outfile)\n",
    "confg = os.path.join(workdir, 'gawa.cfg')    \n",
    "\n",
    "# split_area:\n",
    "if input_data_structure[survey]['footprint_hpx_mosaic']: \n",
    "    survey_footprint = os.path.join(workdir, 'survey_footprint.fits')\n",
    "    if not os.path.isfile(survey_footprint):\n",
    "        create_survey_footprint_from_mosaic(footprint[survey],   survey_footprint)\n",
    "else:\n",
    "    survey_footprint = footprint[survey]['survey_footprint']\n",
    "\n",
    "if not os.path.isfile(tiles_filename):\n",
    "    ntiles = hpx_split_survey (survey_footprint, footprint[survey], admin['tiling'], tiles_filename)\n",
    "    n_threads, thread_ids = split_equal_area_in_threads(admin['nthreads_max'], tiles_filename)\n",
    "    add_key_to_fits(tiles_filename, thread_ids, 'thread_id', 'int')\n",
    "else:\n",
    "    dat = read_FitsCat(tiles_filename)\n",
    "    ntiles, n_threads = len(dat), np.amax(dat['thread_id']) \n",
    "    thread_ids = dat['thread_id']\n",
    "print ('Ntiles / Nthreads = ', ntiles, ' / ', n_threads)\n",
    "\n",
    "# prepare dslices \n",
    "compute_dslices(isochrone_masks[survey], gawa_cfg['dslices'], workdir)\n",
    "\n",
    "# compute cmd_masks \n",
    "print ('Compute CMD masks')\n",
    "compute_cmd_masks(isochrone_masks[survey], out_paths, gawa_cfg)\n",
    "\n",
    "print('---- ', starcat[survey][mosaic])\n",
    "for i in np.unique(thread_ids): \n",
    "    gawa_thread_call(confg, i)"
   ]
  },
  {
   "cell_type": "code",
   "execution_count": 6,
   "metadata": {},
   "outputs": [
    {
     "name": "stdout",
     "output_type": "stream",
     "text": [
      "\n",
      "Concatenation starts\n",
      "warning : missing tile  /home/jovyan/notebooks/public/Pieres/gawa_detect_sim/tiles/tile_000/gawa_results\n",
      "warning : missing tile  /home/jovyan/notebooks/public/Pieres/gawa_detect_sim/tiles/tile_001/gawa_results\n",
      "warning : missing tile  /home/jovyan/notebooks/public/Pieres/gawa_detect_sim/tiles/tile_002/gawa_results\n",
      "warning : missing tile  /home/jovyan/notebooks/public/Pieres/gawa_detect_sim/tiles/tile_003/gawa_results\n",
      "warning : missing tile  /home/jovyan/notebooks/public/Pieres/gawa_detect_sim/tiles/tile_004/gawa_results\n",
      "warning : missing tile  /home/jovyan/notebooks/public/Pieres/gawa_detect_sim/tiles/tile_005/gawa_results\n",
      "warning : missing tile  /home/jovyan/notebooks/public/Pieres/gawa_detect_sim/tiles/tile_006/gawa_results\n",
      "warning : missing tile  /home/jovyan/notebooks/public/Pieres/gawa_detect_sim/tiles/tile_007/gawa_results\n",
      "warning : missing tile  /home/jovyan/notebooks/public/Pieres/gawa_detect_sim/tiles/tile_008/gawa_results\n",
      "warning : missing tile  /home/jovyan/notebooks/public/Pieres/gawa_detect_sim/tiles/tile_009/gawa_results\n",
      "warning : missing tile  /home/jovyan/notebooks/public/Pieres/gawa_detect_sim/tiles/tile_010/gawa_results\n",
      "warning : missing tile  /home/jovyan/notebooks/public/Pieres/gawa_detect_sim/tiles/tile_011/gawa_results\n",
      "warning : missing tile  /home/jovyan/notebooks/public/Pieres/gawa_detect_sim/tiles/tile_012/gawa_results\n"
     ]
    },
    {
     "ename": "UnboundLocalError",
     "evalue": "local variable 'cdat' referenced before assignment",
     "output_type": "error",
     "traceback": [
      "\u001b[0;31m---------------------------------------------------------------------------\u001b[0m",
      "\u001b[0;31mUnboundLocalError\u001b[0m                         Traceback (most recent call last)",
      "\u001b[0;32m<ipython-input-6-2546328ee904>\u001b[0m in \u001b[0;36m<module>\u001b[0;34m()\u001b[0m\n\u001b[0;32m----> 1\u001b[0;31m \u001b[0mgawa_concatenate\u001b[0m\u001b[0;34m(\u001b[0m\u001b[0mconfg\u001b[0m\u001b[0;34m)\u001b[0m\u001b[0;34m\u001b[0m\u001b[0;34m\u001b[0m\u001b[0m\n\u001b[0m\u001b[1;32m      2\u001b[0m \u001b[0;34m\u001b[0m\u001b[0m\n\u001b[1;32m      3\u001b[0m \u001b[0mprint\u001b[0m \u001b[0;34m(\u001b[0m\u001b[0;34m'all done folks!'\u001b[0m\u001b[0;34m)\u001b[0m\u001b[0;34m\u001b[0m\u001b[0;34m\u001b[0m\u001b[0m\n",
      "\u001b[0;32m<ipython-input-3-0f3478a0f708>\u001b[0m in \u001b[0;36mgawa_concatenate\u001b[0;34m(confg)\u001b[0m\n\u001b[1;32m     11\u001b[0m         \u001b[0mtile_dir\u001b[0m \u001b[0;34m=\u001b[0m \u001b[0mtile_dir_name\u001b[0m\u001b[0;34m(\u001b[0m\u001b[0mout_paths\u001b[0m\u001b[0;34m[\u001b[0m\u001b[0;34m'workdir'\u001b[0m\u001b[0;34m]\u001b[0m\u001b[0;34m,\u001b[0m \u001b[0mint\u001b[0m\u001b[0;34m(\u001b[0m\u001b[0mall_tiles\u001b[0m\u001b[0;34m[\u001b[0m\u001b[0;34m'id'\u001b[0m\u001b[0;34m]\u001b[0m\u001b[0;34m[\u001b[0m\u001b[0mit\u001b[0m\u001b[0;34m]\u001b[0m\u001b[0;34m)\u001b[0m \u001b[0;34m)\u001b[0m\u001b[0;34m\u001b[0m\u001b[0;34m\u001b[0m\u001b[0m\n\u001b[1;32m     12\u001b[0m         \u001b[0mlist_results\u001b[0m\u001b[0;34m.\u001b[0m\u001b[0mappend\u001b[0m\u001b[0;34m(\u001b[0m\u001b[0mos\u001b[0m\u001b[0;34m.\u001b[0m\u001b[0mpath\u001b[0m\u001b[0;34m.\u001b[0m\u001b[0mjoin\u001b[0m\u001b[0;34m(\u001b[0m\u001b[0mtile_dir\u001b[0m\u001b[0;34m,\u001b[0m \u001b[0mout_paths\u001b[0m\u001b[0;34m[\u001b[0m\u001b[0;34m'gawa'\u001b[0m\u001b[0;34m]\u001b[0m\u001b[0;34m[\u001b[0m\u001b[0;34m'results'\u001b[0m\u001b[0;34m]\u001b[0m\u001b[0;34m)\u001b[0m\u001b[0;34m)\u001b[0m\u001b[0;34m\u001b[0m\u001b[0;34m\u001b[0m\u001b[0m\n\u001b[0;32m---> 13\u001b[0;31m     \u001b[0mconcatenate_clusters\u001b[0m\u001b[0;34m(\u001b[0m\u001b[0mlist_results\u001b[0m\u001b[0;34m,\u001b[0m \u001b[0mos\u001b[0m\u001b[0;34m.\u001b[0m\u001b[0mpath\u001b[0m\u001b[0;34m.\u001b[0m\u001b[0mjoin\u001b[0m\u001b[0;34m(\u001b[0m\u001b[0mout_paths\u001b[0m\u001b[0;34m[\u001b[0m\u001b[0;34m'workdir'\u001b[0m\u001b[0;34m]\u001b[0m\u001b[0;34m,\u001b[0m\u001b[0;34m'clusters0.fits'\u001b[0m\u001b[0;34m)\u001b[0m\u001b[0;34m)\u001b[0m\u001b[0;34m\u001b[0m\u001b[0;34m\u001b[0m\u001b[0m\n\u001b[0m\u001b[1;32m     14\u001b[0m \u001b[0;34m\u001b[0m\u001b[0m\n\u001b[1;32m     15\u001b[0m     \u001b[0;31m# final filtering\u001b[0m\u001b[0;34m\u001b[0m\u001b[0;34m\u001b[0m\u001b[0;34m\u001b[0m\u001b[0m\n",
      "\u001b[0;32m/archive/notebooks/public/Pieres/gawa_detect_sim/utils.py\u001b[0m in \u001b[0;36mconcatenate_clusters\u001b[0;34m(tiles_dir, clusters_outfile)\u001b[0m\n\u001b[1;32m    772\u001b[0m         \u001b[0;32melse\u001b[0m\u001b[0;34m:\u001b[0m\u001b[0;34m\u001b[0m\u001b[0;34m\u001b[0m\u001b[0m\n\u001b[1;32m    773\u001b[0m             \u001b[0mprint\u001b[0m \u001b[0;34m(\u001b[0m\u001b[0;34m'warning : missing tile '\u001b[0m\u001b[0;34m,\u001b[0m \u001b[0mtile_dir\u001b[0m\u001b[0;34m)\u001b[0m\u001b[0;34m\u001b[0m\u001b[0;34m\u001b[0m\u001b[0m\n\u001b[0;32m--> 774\u001b[0;31m     \u001b[0mconcatenate_fits\u001b[0m\u001b[0;34m(\u001b[0m\u001b[0mclist\u001b[0m\u001b[0;34m,\u001b[0m \u001b[0mclusters_outfile\u001b[0m\u001b[0;34m)\u001b[0m\u001b[0;34m\u001b[0m\u001b[0;34m\u001b[0m\u001b[0m\n\u001b[0m\u001b[1;32m    775\u001b[0m \u001b[0;34m\u001b[0m\u001b[0m\n\u001b[1;32m    776\u001b[0m     \u001b[0;32mreturn\u001b[0m\u001b[0;34m\u001b[0m\u001b[0;34m\u001b[0m\u001b[0m\n",
      "\u001b[0;32m/archive/notebooks/public/Pieres/gawa_detect_sim/utils.py\u001b[0m in \u001b[0;36mconcatenate_fits\u001b[0;34m(flist, output)\u001b[0m\n\u001b[1;32m    203\u001b[0m             \u001b[0mcdat\u001b[0m \u001b[0;34m=\u001b[0m \u001b[0mnp\u001b[0m\u001b[0;34m.\u001b[0m\u001b[0mappend\u001b[0m\u001b[0;34m(\u001b[0m\u001b[0mcdat\u001b[0m\u001b[0;34m,\u001b[0m \u001b[0mdat\u001b[0m\u001b[0;34m)\u001b[0m\u001b[0;34m\u001b[0m\u001b[0;34m\u001b[0m\u001b[0m\n\u001b[1;32m    204\u001b[0m \u001b[0;34m\u001b[0m\u001b[0m\n\u001b[0;32m--> 205\u001b[0;31m     \u001b[0mt\u001b[0m \u001b[0;34m=\u001b[0m \u001b[0mTable\u001b[0m\u001b[0;34m(\u001b[0m\u001b[0mcdat\u001b[0m\u001b[0;34m)\u001b[0m\u001b[0;31m#, names=names)\u001b[0m\u001b[0;34m\u001b[0m\u001b[0;34m\u001b[0m\u001b[0m\n\u001b[0m\u001b[1;32m    206\u001b[0m     \u001b[0mt\u001b[0m\u001b[0;34m.\u001b[0m\u001b[0mwrite\u001b[0m\u001b[0;34m(\u001b[0m\u001b[0moutput\u001b[0m\u001b[0;34m,\u001b[0m \u001b[0moverwrite\u001b[0m\u001b[0;34m=\u001b[0m\u001b[0;32mTrue\u001b[0m\u001b[0;34m)\u001b[0m\u001b[0;34m\u001b[0m\u001b[0;34m\u001b[0m\u001b[0m\n\u001b[1;32m    207\u001b[0m     \u001b[0;32mreturn\u001b[0m \u001b[0mcdat\u001b[0m\u001b[0;34m\u001b[0m\u001b[0;34m\u001b[0m\u001b[0m\n",
      "\u001b[0;31mUnboundLocalError\u001b[0m: local variable 'cdat' referenced before assignment"
     ]
    }
   ],
   "source": [
    "gawa_concatenate(confg)\n",
    "\n",
    "print ('all done folks!')"
   ]
  },
  {
   "cell_type": "code",
   "execution_count": null,
   "metadata": {},
   "outputs": [],
   "source": []
  }
 ],
 "metadata": {
  "kernelspec": {
   "display_name": "science",
   "language": "python",
   "name": "science"
  },
  "language_info": {
   "codemirror_mode": {
    "name": "ipython",
    "version": 3
   },
   "file_extension": ".py",
   "mimetype": "text/x-python",
   "name": "python",
   "nbconvert_exporter": "python",
   "pygments_lexer": "ipython3",
   "version": "3.6.8"
  }
 },
 "nbformat": 4,
 "nbformat_minor": 2
}
