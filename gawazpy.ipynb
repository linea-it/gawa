{
 "cells": [
  {
   "cell_type": "markdown",
   "metadata": {},
   "source": [
    "## Starting the ga-wazpy code"
   ]
  },
  {
   "cell_type": "markdown",
   "metadata": {},
   "source": [
    "Setting a few packages. The package scikit-image is needed. Install it locally using conda <br>\n",
    "in the terminal and after restart the kernel. \n",
    "\n",
    "Run these 2 lines below in terminal and after that restart kernel:\n",
    "python -m pip install -U --user pip\n",
    "python -m pip install -U --user scikit-image\n",
    "\n",
    "Transformation from DECam g and r to V absolute magnitude: V = g - 0.58*(g-r) - 0.01 (Jester 2005, from SDSS to V)"
   ]
  },
  {
   "cell_type": "code",
   "execution_count": 1,
   "metadata": {},
   "outputs": [],
   "source": [
    "# Rodar no terminal e depois reiniciar o kernel:\n",
    "# python -m pip install -U --user pip\n",
    "# python -m pip install -U --user scikit-image\n",
    "# pip install --user parsl\n",
    "# conda install -c cta-observatory sparse2d\n",
    "\n",
    "import numpy as np\n",
    "import yaml\n",
    "import os\n",
    "import astropy.io.fits as fits\n",
    "import healpy as hp\n",
    "from astropy.table import Table\n",
    "import json\n",
    "import matplotlib as mpl\n",
    "from multithread import split_equal_area_in_threads\n",
    "from utils import hpx_split_survey #, split_survey_from_hpx\n",
    "from utils import read_FitsCat, create_directory #, concatenate_fits\n",
    "from utils import create_mosaic_footprint, create_survey_footprint_from_mosaic\n",
    "from utils import add_key_to_fits, concatenate_clusters\n",
    "from utils import tile_radius, create_tile_specs #, filter_hpx_tile\n",
    "from utils import read_mosaicFitsCat_in_disc, create_directory \n",
    "from utils import read_mosaicFootprint_in_disc #, read_FitsFootprint\n",
    "from utils import add_clusters_unique_id\n",
    "from gawa import compute_cmd_masks, compute_dslices, create_gawa_directories\n",
    "from gawa import gawa_tile, tile_dir_name\n",
    "from gawa import cl_duplicates_filtering\n",
    "\n",
    "import parsl\n",
    "from parsl.app.app import python_app, bash_app\n",
    "from parsl.configs.local_threads import config\n",
    "from time import time\n",
    "t0 = time()\n",
    "parsl.load(config)\n",
    "\n",
    "mpl.rcParams['legend.numpoints'] = 1\n",
    "cmap = mpl.cm.get_cmap(\"inferno_r\")"
   ]
  },
  {
   "cell_type": "code",
   "execution_count": 2,
   "metadata": {},
   "outputs": [],
   "source": [
    "# @python_app\n",
    "def gawa_thread_call(confg, thread_id):\n",
    "\n",
    "    # read config file\n",
    "    with open(confg) as fstream:\n",
    "        param_data = yaml.load(fstream)\n",
    "        globals().update(param_data)\n",
    "\n",
    "    workdir = out_paths['workdir']\n",
    "\n",
    "    ####\n",
    "    all_tiles = read_FitsCat(os.path.join(workdir, admin['tiling']['tiles_filename']))\n",
    "    tiles = all_tiles[(all_tiles['thread_id']==int(thread_id))]    \n",
    "    print ('THREAD ', int(thread_id))\n",
    "\n",
    "    for it in range(0, len(tiles)):\n",
    "        tile_dir = tile_dir_name(workdir, int(tiles['id'][it]) )\n",
    "        print ('..... Tile ', int(tiles['id'][it]))\n",
    "\n",
    "        create_directory(tile_dir)\n",
    "        create_gawa_directories(tile_dir, out_paths['gawa'])\n",
    "        out_paths['tile_dir'] = tile_dir # local update \n",
    "\n",
    "        tile_radius_deg = tile_radius(admin['tiling'])\n",
    "        tile_specs = create_tile_specs(tiles[it], tile_radius_deg, admin)\n",
    "        data_star_tile = read_mosaicFitsCat_in_disc(starcat[survey], tiles[it], tile_radius_deg)   \n",
    "        data_fp_tile   = read_mosaicFootprint_in_disc (footprint[survey], tiles[it], tile_radius_deg)\n",
    "\n",
    "        if verbose>=2:\n",
    "            t = Table (data_star_tile)#, names=names)\n",
    "            t.write(os.path.join(tile_dir, out_paths['gawa']['files'],\"starcat.fits\"),overwrite=True)\n",
    "            t = Table (data_fp_tile)#, names=names)\n",
    "            t.write(os.path.join(tile_dir, out_paths['gawa']['files'], \"footprint.fits\"),overwrite=True)\n",
    "  \n",
    "        gawa_tile(tile_specs, isochrone_masks[survey], data_star_tile, starcat[survey], \\\n",
    "                  data_fp_tile, footprint[survey], gawa_cfg, admin, out_paths, verbose)"
   ]
  },
  {
   "cell_type": "code",
   "execution_count": 3,
   "metadata": {},
   "outputs": [],
   "source": [
    "def gawa_concatenate(confg):\n",
    "    # read config file\n",
    "    with open(confg) as fstream:\n",
    "        param_data = yaml.load(fstream)\n",
    "        globals().update(param_data)\n",
    "\n",
    "    # concatenate all tiles \n",
    "    all_tiles = read_FitsCat(os.path.join(out_paths['workdir'], admin['tiling']['tiles_filename']))\n",
    "    list_results = []\n",
    "    for it in range(0, len(all_tiles)):\n",
    "        tile_dir = tile_dir_name(out_paths['workdir'], int(all_tiles['id'][it]) )\n",
    "        list_results.append(os.path.join(tile_dir, out_paths['gawa']['results']))\n",
    "    concatenate_clusters(list_results, os.path.join(out_paths['workdir'],'clusters0.fits')) \n",
    "\n",
    "    # final filtering \n",
    "    data_clusters0 = read_FitsCat(os.path.join(out_paths['workdir'],'clusters0.fits'))\n",
    "    data_clusters0f = cl_duplicates_filtering(data_clusters0, gawa_cfg, 'survey')\n",
    "    # create unique index with decreasing SNR \n",
    "    data_clusters = add_clusters_unique_id(data_clusters0f, gawa_cfg['clkeys'])\n",
    "    data_clusters.write(os.path.join(out_paths['workdir'],'clusters.fits'), overwrite=True)"
   ]
  },
  {
   "cell_type": "code",
   "execution_count": 4,
   "metadata": {},
   "outputs": [
    {
     "name": "stderr",
     "output_type": "stream",
     "text": [
      "/tmp/ipykernel_7418/1298488997.py:6: YAMLLoadWarning: calling yaml.load() without Loader=... is deprecated, as the default Loader is unsafe. Please read https://msg.pyyaml.org/load for full details.\n",
      "  param_data = yaml.load(fstream)\n"
     ]
    },
    {
     "name": "stdout",
     "output_type": "stream",
     "text": [
      "Survey :  MOCK\n",
      "workdir :  /home/adriano.pieres/gawa/\n",
      "Ntiles / Nthreads =  13  /  10\n",
      "Compute CMD masks\n",
      ".....Mask distance (kpc) =  81.04\n",
      ".....Mask distance (kpc) =  89.72\n",
      ".....Mask distance (kpc) =  99.39\n",
      ".....Mask distance (kpc) =  110.17\n",
      ".....Mask distance (kpc) =  122.19\n",
      "THREAD  1\n",
      "..... Tile  3\n",
      "..........Start gawa tile catalog construction\n",
      ".............. Detection in slice  0\n"
     ]
    },
    {
     "name": "stderr",
     "output_type": "stream",
     "text": [
      "/opt/conda/envs/gawa_env/bin/mr_filter: error while loading shared libraries: libcfitsio.so.5: cannot open shared object file: No such file or directory\n"
     ]
    },
    {
     "ename": "FileNotFoundError",
     "evalue": "[Errno 2] No such file or directory: '/home/adriano.pieres/gawa/tiles/tile_003/gawa_files/wmap_D81.04.fits'",
     "output_type": "error",
     "traceback": [
      "\u001b[0;31m---------------------------------------------------------------------------\u001b[0m",
      "\u001b[0;31mFileNotFoundError\u001b[0m                         Traceback (most recent call last)",
      "\u001b[0;32m/tmp/ipykernel_7418/1298488997.py\u001b[0m in \u001b[0;36m<module>\u001b[0;34m\u001b[0m\n\u001b[1;32m     53\u001b[0m \u001b[0;34m\u001b[0m\u001b[0m\n\u001b[1;32m     54\u001b[0m \u001b[0;32mfor\u001b[0m \u001b[0mi\u001b[0m \u001b[0;32min\u001b[0m \u001b[0mnp\u001b[0m\u001b[0;34m.\u001b[0m\u001b[0munique\u001b[0m\u001b[0;34m(\u001b[0m\u001b[0mthread_ids\u001b[0m\u001b[0;34m)\u001b[0m\u001b[0;34m:\u001b[0m\u001b[0;34m\u001b[0m\u001b[0;34m\u001b[0m\u001b[0m\n\u001b[0;32m---> 55\u001b[0;31m     \u001b[0mgawa_thread_call\u001b[0m\u001b[0;34m(\u001b[0m\u001b[0mconfg\u001b[0m\u001b[0;34m,\u001b[0m \u001b[0mi\u001b[0m\u001b[0;34m)\u001b[0m\u001b[0;34m\u001b[0m\u001b[0;34m\u001b[0m\u001b[0m\n\u001b[0m",
      "\u001b[0;32m/tmp/ipykernel_7418/2301430425.py\u001b[0m in \u001b[0;36mgawa_thread_call\u001b[0;34m(confg, thread_id)\u001b[0m\n\u001b[1;32m     33\u001b[0m             \u001b[0mt\u001b[0m\u001b[0;34m.\u001b[0m\u001b[0mwrite\u001b[0m\u001b[0;34m(\u001b[0m\u001b[0mos\u001b[0m\u001b[0;34m.\u001b[0m\u001b[0mpath\u001b[0m\u001b[0;34m.\u001b[0m\u001b[0mjoin\u001b[0m\u001b[0;34m(\u001b[0m\u001b[0mtile_dir\u001b[0m\u001b[0;34m,\u001b[0m \u001b[0mout_paths\u001b[0m\u001b[0;34m[\u001b[0m\u001b[0;34m'gawa'\u001b[0m\u001b[0;34m]\u001b[0m\u001b[0;34m[\u001b[0m\u001b[0;34m'files'\u001b[0m\u001b[0;34m]\u001b[0m\u001b[0;34m,\u001b[0m \u001b[0;34m\"footprint.fits\"\u001b[0m\u001b[0;34m)\u001b[0m\u001b[0;34m,\u001b[0m\u001b[0moverwrite\u001b[0m\u001b[0;34m=\u001b[0m\u001b[0;32mTrue\u001b[0m\u001b[0;34m)\u001b[0m\u001b[0;34m\u001b[0m\u001b[0;34m\u001b[0m\u001b[0m\n\u001b[1;32m     34\u001b[0m \u001b[0;34m\u001b[0m\u001b[0m\n\u001b[0;32m---> 35\u001b[0;31m         gawa_tile(tile_specs, isochrone_masks[survey], data_star_tile, starcat[survey], \\\n\u001b[0m\u001b[1;32m     36\u001b[0m                   data_fp_tile, footprint[survey], gawa_cfg, admin, out_paths, verbose)\n",
      "\u001b[0;32m~/gawa/gawa.py\u001b[0m in \u001b[0;36mgawa_tile\u001b[0;34m(tile_specs, isochrone_masks, data_star, starcat, data_fp, footprint, gawa_cfg, admin, out_paths, verbose)\u001b[0m\n\u001b[1;32m    932\u001b[0m             \u001b[0;32mif\u001b[0m \u001b[0;32mnot\u001b[0m \u001b[0mos\u001b[0m\u001b[0;34m.\u001b[0m\u001b[0mpath\u001b[0m\u001b[0;34m.\u001b[0m\u001b[0misfile\u001b[0m\u001b[0;34m(\u001b[0m\u001b[0mos\u001b[0m\u001b[0;34m.\u001b[0m\u001b[0mpath\u001b[0m\u001b[0;34m.\u001b[0m\u001b[0mjoin\u001b[0m\u001b[0;34m(\u001b[0m\u001b[0mout_paths\u001b[0m\u001b[0;34m[\u001b[0m\u001b[0;34m'tile_dir'\u001b[0m\u001b[0;34m]\u001b[0m\u001b[0;34m,\u001b[0m \u001b[0mout_paths\u001b[0m\u001b[0;34m[\u001b[0m\u001b[0;34m'gawa'\u001b[0m\u001b[0;34m]\u001b[0m\u001b[0;34m[\u001b[0m\u001b[0;34m'files'\u001b[0m\u001b[0;34m]\u001b[0m\u001b[0;34m,\u001b[0m \u001b[0;34m'peaks_'\u001b[0m\u001b[0;34m+\u001b[0m\u001b[0mstr\u001b[0m\u001b[0;34m(\u001b[0m\u001b[0misl\u001b[0m\u001b[0;34m)\u001b[0m\u001b[0;34m+\u001b[0m\u001b[0;34m'.npy'\u001b[0m\u001b[0;34m)\u001b[0m\u001b[0;34m)\u001b[0m\u001b[0;34m:\u001b[0m\u001b[0;34m\u001b[0m\u001b[0;34m\u001b[0m\u001b[0m\n\u001b[1;32m    933\u001b[0m                 \u001b[0mprint\u001b[0m \u001b[0;34m(\u001b[0m\u001b[0;34m'.............. Detection in slice '\u001b[0m\u001b[0;34m,\u001b[0m \u001b[0misl\u001b[0m\u001b[0;34m)\u001b[0m\u001b[0;34m\u001b[0m\u001b[0;34m\u001b[0m\u001b[0m\n\u001b[0;32m--> 934\u001b[0;31m                 data_peaks = gawa_tile_slice(tile_specs, dslices[isl], isochrone_masks, data_star, starcat, \\\n\u001b[0m\u001b[1;32m    935\u001b[0m                                                  data_fp, footprint, gawa_cfg, out_paths, verbose)\n\u001b[1;32m    936\u001b[0m                 \u001b[0mnp\u001b[0m\u001b[0;34m.\u001b[0m\u001b[0msave\u001b[0m\u001b[0;34m(\u001b[0m\u001b[0mos\u001b[0m\u001b[0;34m.\u001b[0m\u001b[0mpath\u001b[0m\u001b[0;34m.\u001b[0m\u001b[0mjoin\u001b[0m\u001b[0;34m(\u001b[0m\u001b[0mout_paths\u001b[0m\u001b[0;34m[\u001b[0m\u001b[0;34m'tile_dir'\u001b[0m\u001b[0;34m]\u001b[0m\u001b[0;34m,\u001b[0m \u001b[0mout_paths\u001b[0m\u001b[0;34m[\u001b[0m\u001b[0;34m'gawa'\u001b[0m\u001b[0;34m]\u001b[0m\u001b[0;34m[\u001b[0m\u001b[0;34m'files'\u001b[0m\u001b[0;34m]\u001b[0m\u001b[0;34m,\u001b[0m \u001b[0;34m'peaks_'\u001b[0m\u001b[0;34m+\u001b[0m\u001b[0mstr\u001b[0m\u001b[0;34m(\u001b[0m\u001b[0misl\u001b[0m\u001b[0;34m)\u001b[0m\u001b[0;34m+\u001b[0m\u001b[0;34m'.npy'\u001b[0m\u001b[0;34m)\u001b[0m\u001b[0;34m,\u001b[0m \u001b[0mdata_peaks\u001b[0m\u001b[0;34m)\u001b[0m\u001b[0;34m\u001b[0m\u001b[0;34m\u001b[0m\u001b[0m\n",
      "\u001b[0;32m~/gawa/gawa.py\u001b[0m in \u001b[0;36mgawa_tile_slice\u001b[0;34m(tile, dslice, isochrone_masks, data_star, starcat, data_fp, footprint, gawa_cfg, out_paths, verbose)\u001b[0m\n\u001b[1;32m    870\u001b[0m         \u001b[0mmap2fits\u001b[0m\u001b[0;34m(\u001b[0m\u001b[0mxycat_fi\u001b[0m\u001b[0;34m,\u001b[0m \u001b[0mgawa_cfg\u001b[0m\u001b[0;34m,\u001b[0m \u001b[0mtile\u001b[0m\u001b[0;34m,\u001b[0m \u001b[0mxycat_fi_fitsname\u001b[0m\u001b[0;34m)\u001b[0m\u001b[0;34m\u001b[0m\u001b[0;34m\u001b[0m\u001b[0m\n\u001b[1;32m    871\u001b[0m         \u001b[0mrun_mr_filter\u001b[0m\u001b[0;34m(\u001b[0m\u001b[0mxycat_fi_fitsname\u001b[0m\u001b[0;34m,\u001b[0m \u001b[0mwmap_fitsname\u001b[0m\u001b[0;34m,\u001b[0m \u001b[0mgawa_cfg\u001b[0m\u001b[0;34m)\u001b[0m\u001b[0;34m\u001b[0m\u001b[0;34m\u001b[0m\u001b[0m\n\u001b[0;32m--> 872\u001b[0;31m     \u001b[0mwmap_data\u001b[0m \u001b[0;34m=\u001b[0m \u001b[0mfits2map\u001b[0m\u001b[0;34m(\u001b[0m\u001b[0mwmap_fitsname\u001b[0m\u001b[0;34m)\u001b[0m\u001b[0;34m\u001b[0m\u001b[0;34m\u001b[0m\u001b[0m\n\u001b[0m\u001b[1;32m    873\u001b[0m     \u001b[0mrap0\u001b[0m\u001b[0;34m,\u001b[0m \u001b[0mdecp0\u001b[0m\u001b[0;34m,\u001b[0m \u001b[0mip0\u001b[0m\u001b[0;34m,\u001b[0m \u001b[0mjp0\u001b[0m \u001b[0;34m=\u001b[0m \u001b[0mwmap2peaks\u001b[0m\u001b[0;34m(\u001b[0m\u001b[0mwmap_fitsname\u001b[0m\u001b[0;34m,\u001b[0m \u001b[0mgawa_cfg\u001b[0m\u001b[0;34m,\u001b[0m \u001b[0mtile\u001b[0m\u001b[0;34m)\u001b[0m\u001b[0;34m\u001b[0m\u001b[0;34m\u001b[0m\u001b[0m\n\u001b[1;32m    874\u001b[0m     \u001b[0mrap\u001b[0m\u001b[0;34m,\u001b[0m \u001b[0mdecp\u001b[0m\u001b[0;34m,\u001b[0m \u001b[0mip\u001b[0m\u001b[0;34m,\u001b[0m \u001b[0mjp\u001b[0m \u001b[0;34m=\u001b[0m \u001b[0mfilter_peaks\u001b[0m\u001b[0;34m(\u001b[0m\u001b[0mtile\u001b[0m\u001b[0;34m,\u001b[0m \u001b[0mgawa_cfg\u001b[0m\u001b[0;34m[\u001b[0m\u001b[0;34m'map_resolution'\u001b[0m\u001b[0;34m]\u001b[0m\u001b[0;34m,\u001b[0m \u001b[0mrap0\u001b[0m\u001b[0;34m,\u001b[0m \u001b[0mdecp0\u001b[0m\u001b[0;34m,\u001b[0m \u001b[0mip0\u001b[0m\u001b[0;34m,\u001b[0m \u001b[0mjp0\u001b[0m\u001b[0;34m)\u001b[0m \u001b[0;31m# to keep inner tile peaks\u001b[0m\u001b[0;34m\u001b[0m\u001b[0;34m\u001b[0m\u001b[0m\n",
      "\u001b[0;32m~/gawa/gawa.py\u001b[0m in \u001b[0;36mfits2map\u001b[0;34m(wmap)\u001b[0m\n\u001b[1;32m    368\u001b[0m \u001b[0;34m\u001b[0m\u001b[0m\n\u001b[1;32m    369\u001b[0m \u001b[0;32mdef\u001b[0m \u001b[0mfits2map\u001b[0m\u001b[0;34m(\u001b[0m\u001b[0mwmap\u001b[0m\u001b[0;34m)\u001b[0m\u001b[0;34m:\u001b[0m\u001b[0;34m\u001b[0m\u001b[0;34m\u001b[0m\u001b[0m\n\u001b[0;32m--> 370\u001b[0;31m     \u001b[0mhdulist\u001b[0m \u001b[0;34m=\u001b[0m \u001b[0mfits\u001b[0m\u001b[0;34m.\u001b[0m\u001b[0mopen\u001b[0m\u001b[0;34m(\u001b[0m\u001b[0mwmap\u001b[0m\u001b[0;34m,\u001b[0m\u001b[0mignore_missing_end\u001b[0m\u001b[0;34m=\u001b[0m\u001b[0;32mTrue\u001b[0m\u001b[0;34m)\u001b[0m\u001b[0;34m\u001b[0m\u001b[0;34m\u001b[0m\u001b[0m\n\u001b[0m\u001b[1;32m    371\u001b[0m     \u001b[0mhdu\u001b[0m \u001b[0;34m=\u001b[0m \u001b[0mhdulist\u001b[0m\u001b[0;34m[\u001b[0m\u001b[0;36m0\u001b[0m\u001b[0;34m]\u001b[0m\u001b[0;34m\u001b[0m\u001b[0;34m\u001b[0m\u001b[0m\n\u001b[1;32m    372\u001b[0m     \u001b[0mwmap_t\u001b[0m \u001b[0;34m=\u001b[0m \u001b[0mhdulist\u001b[0m\u001b[0;34m[\u001b[0m\u001b[0;36m0\u001b[0m\u001b[0;34m]\u001b[0m\u001b[0;34m.\u001b[0m\u001b[0mdata\u001b[0m\u001b[0;34m\u001b[0m\u001b[0;34m\u001b[0m\u001b[0m\n",
      "\u001b[0;32m/opt/conda/lib/python3.9/site-packages/astropy/io/fits/hdu/hdulist.py\u001b[0m in \u001b[0;36mfitsopen\u001b[0;34m(name, mode, memmap, save_backup, cache, lazy_load_hdus, **kwargs)\u001b[0m\n\u001b[1;32m    162\u001b[0m         \u001b[0;32mraise\u001b[0m \u001b[0mValueError\u001b[0m\u001b[0;34m(\u001b[0m\u001b[0;34mf'Empty filename: {name!r}'\u001b[0m\u001b[0;34m)\u001b[0m\u001b[0;34m\u001b[0m\u001b[0;34m\u001b[0m\u001b[0m\n\u001b[1;32m    163\u001b[0m \u001b[0;34m\u001b[0m\u001b[0m\n\u001b[0;32m--> 164\u001b[0;31m     return HDUList.fromfile(name, mode, memmap, save_backup, cache,\n\u001b[0m\u001b[1;32m    165\u001b[0m                             lazy_load_hdus, **kwargs)\n\u001b[1;32m    166\u001b[0m \u001b[0;34m\u001b[0m\u001b[0m\n",
      "\u001b[0;32m/opt/conda/lib/python3.9/site-packages/astropy/io/fits/hdu/hdulist.py\u001b[0m in \u001b[0;36mfromfile\u001b[0;34m(cls, fileobj, mode, memmap, save_backup, cache, lazy_load_hdus, **kwargs)\u001b[0m\n\u001b[1;32m    399\u001b[0m         \"\"\"\n\u001b[1;32m    400\u001b[0m \u001b[0;34m\u001b[0m\u001b[0m\n\u001b[0;32m--> 401\u001b[0;31m         return cls._readfrom(fileobj=fileobj, mode=mode, memmap=memmap,\n\u001b[0m\u001b[1;32m    402\u001b[0m                              \u001b[0msave_backup\u001b[0m\u001b[0;34m=\u001b[0m\u001b[0msave_backup\u001b[0m\u001b[0;34m,\u001b[0m \u001b[0mcache\u001b[0m\u001b[0;34m=\u001b[0m\u001b[0mcache\u001b[0m\u001b[0;34m,\u001b[0m\u001b[0;34m\u001b[0m\u001b[0;34m\u001b[0m\u001b[0m\n\u001b[1;32m    403\u001b[0m                              lazy_load_hdus=lazy_load_hdus, **kwargs)\n",
      "\u001b[0;32m/opt/conda/lib/python3.9/site-packages/astropy/io/fits/hdu/hdulist.py\u001b[0m in \u001b[0;36m_readfrom\u001b[0;34m(cls, fileobj, data, mode, memmap, cache, lazy_load_hdus, **kwargs)\u001b[0m\n\u001b[1;32m   1050\u001b[0m             \u001b[0;32mif\u001b[0m \u001b[0;32mnot\u001b[0m \u001b[0misinstance\u001b[0m\u001b[0;34m(\u001b[0m\u001b[0mfileobj\u001b[0m\u001b[0;34m,\u001b[0m \u001b[0m_File\u001b[0m\u001b[0;34m)\u001b[0m\u001b[0;34m:\u001b[0m\u001b[0;34m\u001b[0m\u001b[0;34m\u001b[0m\u001b[0m\n\u001b[1;32m   1051\u001b[0m                 \u001b[0;31m# instantiate a FITS file object (ffo)\u001b[0m\u001b[0;34m\u001b[0m\u001b[0;34m\u001b[0m\u001b[0m\n\u001b[0;32m-> 1052\u001b[0;31m                 \u001b[0mfileobj\u001b[0m \u001b[0;34m=\u001b[0m \u001b[0m_File\u001b[0m\u001b[0;34m(\u001b[0m\u001b[0mfileobj\u001b[0m\u001b[0;34m,\u001b[0m \u001b[0mmode\u001b[0m\u001b[0;34m=\u001b[0m\u001b[0mmode\u001b[0m\u001b[0;34m,\u001b[0m \u001b[0mmemmap\u001b[0m\u001b[0;34m=\u001b[0m\u001b[0mmemmap\u001b[0m\u001b[0;34m,\u001b[0m \u001b[0mcache\u001b[0m\u001b[0;34m=\u001b[0m\u001b[0mcache\u001b[0m\u001b[0;34m)\u001b[0m\u001b[0;34m\u001b[0m\u001b[0;34m\u001b[0m\u001b[0m\n\u001b[0m\u001b[1;32m   1053\u001b[0m             \u001b[0;31m# The Astropy mode is determined by the _File initializer if the\u001b[0m\u001b[0;34m\u001b[0m\u001b[0;34m\u001b[0m\u001b[0m\n\u001b[1;32m   1054\u001b[0m             \u001b[0;31m# supplied mode was None\u001b[0m\u001b[0;34m\u001b[0m\u001b[0;34m\u001b[0m\u001b[0m\n",
      "\u001b[0;32m/opt/conda/lib/python3.9/site-packages/astropy/utils/decorators.py\u001b[0m in \u001b[0;36mwrapper\u001b[0;34m(*args, **kwargs)\u001b[0m\n\u001b[1;32m    533\u001b[0m                     \u001b[0mwarnings\u001b[0m\u001b[0;34m.\u001b[0m\u001b[0mwarn\u001b[0m\u001b[0;34m(\u001b[0m\u001b[0mmessage\u001b[0m\u001b[0;34m,\u001b[0m \u001b[0mwarning_type\u001b[0m\u001b[0;34m,\u001b[0m \u001b[0mstacklevel\u001b[0m\u001b[0;34m=\u001b[0m\u001b[0;36m2\u001b[0m\u001b[0;34m)\u001b[0m\u001b[0;34m\u001b[0m\u001b[0;34m\u001b[0m\u001b[0m\n\u001b[1;32m    534\u001b[0m \u001b[0;34m\u001b[0m\u001b[0m\n\u001b[0;32m--> 535\u001b[0;31m             \u001b[0;32mreturn\u001b[0m \u001b[0mfunction\u001b[0m\u001b[0;34m(\u001b[0m\u001b[0;34m*\u001b[0m\u001b[0margs\u001b[0m\u001b[0;34m,\u001b[0m \u001b[0;34m**\u001b[0m\u001b[0mkwargs\u001b[0m\u001b[0;34m)\u001b[0m\u001b[0;34m\u001b[0m\u001b[0;34m\u001b[0m\u001b[0m\n\u001b[0m\u001b[1;32m    536\u001b[0m \u001b[0;34m\u001b[0m\u001b[0m\n\u001b[1;32m    537\u001b[0m         \u001b[0;32mreturn\u001b[0m \u001b[0mwrapper\u001b[0m\u001b[0;34m\u001b[0m\u001b[0;34m\u001b[0m\u001b[0m\n",
      "\u001b[0;32m/opt/conda/lib/python3.9/site-packages/astropy/io/fits/file.py\u001b[0m in \u001b[0;36m__init__\u001b[0;34m(self, fileobj, mode, memmap, overwrite, cache)\u001b[0m\n\u001b[1;32m    173\u001b[0m             \u001b[0mself\u001b[0m\u001b[0;34m.\u001b[0m\u001b[0m_open_fileobj\u001b[0m\u001b[0;34m(\u001b[0m\u001b[0mfileobj\u001b[0m\u001b[0;34m,\u001b[0m \u001b[0mmode\u001b[0m\u001b[0;34m,\u001b[0m \u001b[0moverwrite\u001b[0m\u001b[0;34m)\u001b[0m\u001b[0;34m\u001b[0m\u001b[0;34m\u001b[0m\u001b[0m\n\u001b[1;32m    174\u001b[0m         \u001b[0;32melif\u001b[0m \u001b[0misinstance\u001b[0m\u001b[0;34m(\u001b[0m\u001b[0mfileobj\u001b[0m\u001b[0;34m,\u001b[0m \u001b[0;34m(\u001b[0m\u001b[0mstr\u001b[0m\u001b[0;34m,\u001b[0m \u001b[0mbytes\u001b[0m\u001b[0;34m)\u001b[0m\u001b[0;34m)\u001b[0m\u001b[0;34m:\u001b[0m\u001b[0;34m\u001b[0m\u001b[0;34m\u001b[0m\u001b[0m\n\u001b[0;32m--> 175\u001b[0;31m             \u001b[0mself\u001b[0m\u001b[0;34m.\u001b[0m\u001b[0m_open_filename\u001b[0m\u001b[0;34m(\u001b[0m\u001b[0mfileobj\u001b[0m\u001b[0;34m,\u001b[0m \u001b[0mmode\u001b[0m\u001b[0;34m,\u001b[0m \u001b[0moverwrite\u001b[0m\u001b[0;34m)\u001b[0m\u001b[0;34m\u001b[0m\u001b[0;34m\u001b[0m\u001b[0m\n\u001b[0m\u001b[1;32m    176\u001b[0m         \u001b[0;32melse\u001b[0m\u001b[0;34m:\u001b[0m\u001b[0;34m\u001b[0m\u001b[0;34m\u001b[0m\u001b[0m\n\u001b[1;32m    177\u001b[0m             \u001b[0mself\u001b[0m\u001b[0;34m.\u001b[0m\u001b[0m_open_filelike\u001b[0m\u001b[0;34m(\u001b[0m\u001b[0mfileobj\u001b[0m\u001b[0;34m,\u001b[0m \u001b[0mmode\u001b[0m\u001b[0;34m,\u001b[0m \u001b[0moverwrite\u001b[0m\u001b[0;34m)\u001b[0m\u001b[0;34m\u001b[0m\u001b[0;34m\u001b[0m\u001b[0m\n",
      "\u001b[0;32m/opt/conda/lib/python3.9/site-packages/astropy/io/fits/file.py\u001b[0m in \u001b[0;36m_open_filename\u001b[0;34m(self, filename, mode, overwrite)\u001b[0m\n\u001b[1;32m    562\u001b[0m \u001b[0;34m\u001b[0m\u001b[0m\n\u001b[1;32m    563\u001b[0m         \u001b[0;32mif\u001b[0m \u001b[0;32mnot\u001b[0m \u001b[0mself\u001b[0m\u001b[0;34m.\u001b[0m\u001b[0m_try_read_compressed\u001b[0m\u001b[0;34m(\u001b[0m\u001b[0mself\u001b[0m\u001b[0;34m.\u001b[0m\u001b[0mname\u001b[0m\u001b[0;34m,\u001b[0m \u001b[0mmagic\u001b[0m\u001b[0;34m,\u001b[0m \u001b[0mmode\u001b[0m\u001b[0;34m,\u001b[0m \u001b[0mext\u001b[0m\u001b[0;34m=\u001b[0m\u001b[0mext\u001b[0m\u001b[0;34m)\u001b[0m\u001b[0;34m:\u001b[0m\u001b[0;34m\u001b[0m\u001b[0;34m\u001b[0m\u001b[0m\n\u001b[0;32m--> 564\u001b[0;31m             \u001b[0mself\u001b[0m\u001b[0;34m.\u001b[0m\u001b[0m_file\u001b[0m \u001b[0;34m=\u001b[0m \u001b[0mfileobj_open\u001b[0m\u001b[0;34m(\u001b[0m\u001b[0mself\u001b[0m\u001b[0;34m.\u001b[0m\u001b[0mname\u001b[0m\u001b[0;34m,\u001b[0m \u001b[0mIO_FITS_MODES\u001b[0m\u001b[0;34m[\u001b[0m\u001b[0mmode\u001b[0m\u001b[0;34m]\u001b[0m\u001b[0;34m)\u001b[0m\u001b[0;34m\u001b[0m\u001b[0;34m\u001b[0m\u001b[0m\n\u001b[0m\u001b[1;32m    565\u001b[0m             \u001b[0mself\u001b[0m\u001b[0;34m.\u001b[0m\u001b[0mclose_on_error\u001b[0m \u001b[0;34m=\u001b[0m \u001b[0;32mTrue\u001b[0m\u001b[0;34m\u001b[0m\u001b[0;34m\u001b[0m\u001b[0m\n\u001b[1;32m    566\u001b[0m \u001b[0;34m\u001b[0m\u001b[0m\n",
      "\u001b[0;32m/opt/conda/lib/python3.9/site-packages/astropy/io/fits/util.py\u001b[0m in \u001b[0;36mfileobj_open\u001b[0;34m(filename, mode)\u001b[0m\n\u001b[1;32m    390\u001b[0m     \"\"\"\n\u001b[1;32m    391\u001b[0m \u001b[0;34m\u001b[0m\u001b[0m\n\u001b[0;32m--> 392\u001b[0;31m     \u001b[0;32mreturn\u001b[0m \u001b[0mopen\u001b[0m\u001b[0;34m(\u001b[0m\u001b[0mfilename\u001b[0m\u001b[0;34m,\u001b[0m \u001b[0mmode\u001b[0m\u001b[0;34m,\u001b[0m \u001b[0mbuffering\u001b[0m\u001b[0;34m=\u001b[0m\u001b[0;36m0\u001b[0m\u001b[0;34m)\u001b[0m\u001b[0;34m\u001b[0m\u001b[0;34m\u001b[0m\u001b[0m\n\u001b[0m\u001b[1;32m    393\u001b[0m \u001b[0;34m\u001b[0m\u001b[0m\n\u001b[1;32m    394\u001b[0m \u001b[0;34m\u001b[0m\u001b[0m\n",
      "\u001b[0;31mFileNotFoundError\u001b[0m: [Errno 2] No such file or directory: '/home/adriano.pieres/gawa/tiles/tile_003/gawa_files/wmap_D81.04.fits'"
     ]
    },
    {
     "data": {
      "image/png": "[encoded data removed]",
      "text/plain": [
       "<Figure size 432x288 with 1 Axes>"
      ]
     },
     "metadata": {
      "needs_background": "light"
     },
     "output_type": "display_data"
    }
   ],
   "source": [
    "# read config file as online argument \n",
    "confg = \"gawa.cfg\" #sys.argv[1]\n",
    "\n",
    "# read config file\n",
    "with open(confg) as fstream:\n",
    "    param_data = yaml.load(fstream)\n",
    "globals().update(param_data)\n",
    "\n",
    "# Working & output directories \n",
    "workdir = out_paths['workdir']\n",
    "create_directory(workdir)\n",
    "create_directory(os.path.join(workdir, 'tiles'))\n",
    "print ('Survey : ', survey)\n",
    "print ('workdir : ', workdir)\n",
    "tiles_filename = os.path.join(workdir, admin['tiling']['tiles_filename'])\n",
    "\n",
    "# store config file in workdir\n",
    "with open(os.path.join(workdir, 'gawa.cfg'), 'w') as outfile:\n",
    "    json.dump(param_data, outfile)\n",
    "\n",
    "# create required data structure if not exist and update config \n",
    "if not input_data_structure[survey]['footprint_hpx_mosaic']:\n",
    "    create_mosaic_footprint(footprint[survey], os.path.join(workdir, 'footprint'))\n",
    "    param_data['footprint'][survey]['mosaic']['dir'] = os.path.join(workdir, 'footprint')\n",
    "with open(os.path.join(workdir, 'gawa.cfg'), 'w') as outfile:\n",
    "    json.dump(param_data, outfile)\n",
    "confg = os.path.join(workdir, 'gawa.cfg')    \n",
    "\n",
    "# split_area:\n",
    "if input_data_structure[survey]['footprint_hpx_mosaic']: \n",
    "    survey_footprint = os.path.join(workdir, 'survey_footprint.fits')\n",
    "    if not os.path.isfile(survey_footprint):\n",
    "        create_survey_footprint_from_mosaic(footprint[survey],   survey_footprint)\n",
    "else:\n",
    "    survey_footprint = footprint[survey]['survey_footprint']\n",
    "\n",
    "if not os.path.isfile(tiles_filename):\n",
    "    ntiles = hpx_split_survey (survey_footprint, footprint[survey], admin['tiling'], tiles_filename)\n",
    "    n_threads, thread_ids = split_equal_area_in_threads(admin['nthreads_max'], tiles_filename)\n",
    "    add_key_to_fits(tiles_filename, thread_ids, 'thread_id', 'int')\n",
    "else:\n",
    "    dat = read_FitsCat(tiles_filename)\n",
    "    ntiles, n_threads = len(dat), np.amax(dat['thread_id']) \n",
    "    thread_ids = dat['thread_id']\n",
    "print ('Ntiles / Nthreads = ', ntiles, ' / ', n_threads)\n",
    "\n",
    "# prepare dslices \n",
    "compute_dslices(isochrone_masks[survey], gawa_cfg['dslices'], workdir)\n",
    "\n",
    "# compute cmd_masks \n",
    "print ('Compute CMD masks')\n",
    "compute_cmd_masks(isochrone_masks[survey], out_paths, gawa_cfg)\n",
    "\n",
    "for i in np.unique(thread_ids): \n",
    "    gawa_thread_call(confg, i)"
   ]
  },
  {
   "cell_type": "code",
   "execution_count": 6,
   "metadata": {},
   "outputs": [
    {
     "name": "stdout",
     "output_type": "stream",
     "text": [
      "\n",
      "Concatenation starts\n",
      "warning : missing tile  /home/jovyan/notebooks/public/Pieres/gawa_detect_sim/tiles/tile_000/gawa_results\n",
      "warning : missing tile  /home/jovyan/notebooks/public/Pieres/gawa_detect_sim/tiles/tile_001/gawa_results\n",
      "warning : missing tile  /home/jovyan/notebooks/public/Pieres/gawa_detect_sim/tiles/tile_002/gawa_results\n",
      "warning : missing tile  /home/jovyan/notebooks/public/Pieres/gawa_detect_sim/tiles/tile_003/gawa_results\n",
      "warning : missing tile  /home/jovyan/notebooks/public/Pieres/gawa_detect_sim/tiles/tile_004/gawa_results\n",
      "warning : missing tile  /home/jovyan/notebooks/public/Pieres/gawa_detect_sim/tiles/tile_005/gawa_results\n",
      "warning : missing tile  /home/jovyan/notebooks/public/Pieres/gawa_detect_sim/tiles/tile_006/gawa_results\n",
      "warning : missing tile  /home/jovyan/notebooks/public/Pieres/gawa_detect_sim/tiles/tile_007/gawa_results\n",
      "warning : missing tile  /home/jovyan/notebooks/public/Pieres/gawa_detect_sim/tiles/tile_008/gawa_results\n",
      "warning : missing tile  /home/jovyan/notebooks/public/Pieres/gawa_detect_sim/tiles/tile_009/gawa_results\n",
      "warning : missing tile  /home/jovyan/notebooks/public/Pieres/gawa_detect_sim/tiles/tile_010/gawa_results\n",
      "warning : missing tile  /home/jovyan/notebooks/public/Pieres/gawa_detect_sim/tiles/tile_011/gawa_results\n",
      "warning : missing tile  /home/jovyan/notebooks/public/Pieres/gawa_detect_sim/tiles/tile_012/gawa_results\n"
     ]
    },
    {
     "ename": "UnboundLocalError",
     "evalue": "local variable 'cdat' referenced before assignment",
     "output_type": "error",
     "traceback": [
      "\u001b[0;31m---------------------------------------------------------------------------\u001b[0m",
      "\u001b[0;31mUnboundLocalError\u001b[0m                         Traceback (most recent call last)",
      "\u001b[0;32m<ipython-input-6-2546328ee904>\u001b[0m in \u001b[0;36m<module>\u001b[0;34m()\u001b[0m\n\u001b[0;32m----> 1\u001b[0;31m \u001b[0mgawa_concatenate\u001b[0m\u001b[0;34m(\u001b[0m\u001b[0mconfg\u001b[0m\u001b[0;34m)\u001b[0m\u001b[0;34m\u001b[0m\u001b[0;34m\u001b[0m\u001b[0m\n\u001b[0m\u001b[1;32m      2\u001b[0m \u001b[0;34m\u001b[0m\u001b[0m\n\u001b[1;32m      3\u001b[0m \u001b[0mprint\u001b[0m \u001b[0;34m(\u001b[0m\u001b[0;34m'all done folks!'\u001b[0m\u001b[0;34m)\u001b[0m\u001b[0;34m\u001b[0m\u001b[0;34m\u001b[0m\u001b[0m\n",
      "\u001b[0;32m<ipython-input-3-0f3478a0f708>\u001b[0m in \u001b[0;36mgawa_concatenate\u001b[0;34m(confg)\u001b[0m\n\u001b[1;32m     11\u001b[0m         \u001b[0mtile_dir\u001b[0m \u001b[0;34m=\u001b[0m \u001b[0mtile_dir_name\u001b[0m\u001b[0;34m(\u001b[0m\u001b[0mout_paths\u001b[0m\u001b[0;34m[\u001b[0m\u001b[0;34m'workdir'\u001b[0m\u001b[0;34m]\u001b[0m\u001b[0;34m,\u001b[0m \u001b[0mint\u001b[0m\u001b[0;34m(\u001b[0m\u001b[0mall_tiles\u001b[0m\u001b[0;34m[\u001b[0m\u001b[0;34m'id'\u001b[0m\u001b[0;34m]\u001b[0m\u001b[0;34m[\u001b[0m\u001b[0mit\u001b[0m\u001b[0;34m]\u001b[0m\u001b[0;34m)\u001b[0m \u001b[0;34m)\u001b[0m\u001b[0;34m\u001b[0m\u001b[0;34m\u001b[0m\u001b[0m\n\u001b[1;32m     12\u001b[0m         \u001b[0mlist_results\u001b[0m\u001b[0;34m.\u001b[0m\u001b[0mappend\u001b[0m\u001b[0;34m(\u001b[0m\u001b[0mos\u001b[0m\u001b[0;34m.\u001b[0m\u001b[0mpath\u001b[0m\u001b[0;34m.\u001b[0m\u001b[0mjoin\u001b[0m\u001b[0;34m(\u001b[0m\u001b[0mtile_dir\u001b[0m\u001b[0;34m,\u001b[0m \u001b[0mout_paths\u001b[0m\u001b[0;34m[\u001b[0m\u001b[0;34m'gawa'\u001b[0m\u001b[0;34m]\u001b[0m\u001b[0;34m[\u001b[0m\u001b[0;34m'results'\u001b[0m\u001b[0;34m]\u001b[0m\u001b[0;34m)\u001b[0m\u001b[0;34m)\u001b[0m\u001b[0;34m\u001b[0m\u001b[0;34m\u001b[0m\u001b[0m\n\u001b[0;32m---> 13\u001b[0;31m     \u001b[0mconcatenate_clusters\u001b[0m\u001b[0;34m(\u001b[0m\u001b[0mlist_results\u001b[0m\u001b[0;34m,\u001b[0m \u001b[0mos\u001b[0m\u001b[0;34m.\u001b[0m\u001b[0mpath\u001b[0m\u001b[0;34m.\u001b[0m\u001b[0mjoin\u001b[0m\u001b[0;34m(\u001b[0m\u001b[0mout_paths\u001b[0m\u001b[0;34m[\u001b[0m\u001b[0;34m'workdir'\u001b[0m\u001b[0;34m]\u001b[0m\u001b[0;34m,\u001b[0m\u001b[0;34m'clusters0.fits'\u001b[0m\u001b[0;34m)\u001b[0m\u001b[0;34m)\u001b[0m\u001b[0;34m\u001b[0m\u001b[0;34m\u001b[0m\u001b[0m\n\u001b[0m\u001b[1;32m     14\u001b[0m \u001b[0;34m\u001b[0m\u001b[0m\n\u001b[1;32m     15\u001b[0m     \u001b[0;31m# final filtering\u001b[0m\u001b[0;34m\u001b[0m\u001b[0;34m\u001b[0m\u001b[0;34m\u001b[0m\u001b[0m\n",
      "\u001b[0;32m/archive/notebooks/public/Pieres/gawa_detect_sim/utils.py\u001b[0m in \u001b[0;36mconcatenate_clusters\u001b[0;34m(tiles_dir, clusters_outfile)\u001b[0m\n\u001b[1;32m    772\u001b[0m         \u001b[0;32melse\u001b[0m\u001b[0;34m:\u001b[0m\u001b[0;34m\u001b[0m\u001b[0;34m\u001b[0m\u001b[0m\n\u001b[1;32m    773\u001b[0m             \u001b[0mprint\u001b[0m \u001b[0;34m(\u001b[0m\u001b[0;34m'warning : missing tile '\u001b[0m\u001b[0;34m,\u001b[0m \u001b[0mtile_dir\u001b[0m\u001b[0;34m)\u001b[0m\u001b[0;34m\u001b[0m\u001b[0;34m\u001b[0m\u001b[0m\n\u001b[0;32m--> 774\u001b[0;31m     \u001b[0mconcatenate_fits\u001b[0m\u001b[0;34m(\u001b[0m\u001b[0mclist\u001b[0m\u001b[0;34m,\u001b[0m \u001b[0mclusters_outfile\u001b[0m\u001b[0;34m)\u001b[0m\u001b[0;34m\u001b[0m\u001b[0;34m\u001b[0m\u001b[0m\n\u001b[0m\u001b[1;32m    775\u001b[0m \u001b[0;34m\u001b[0m\u001b[0m\n\u001b[1;32m    776\u001b[0m     \u001b[0;32mreturn\u001b[0m\u001b[0;34m\u001b[0m\u001b[0;34m\u001b[0m\u001b[0m\n",
      "\u001b[0;32m/archive/notebooks/public/Pieres/gawa_detect_sim/utils.py\u001b[0m in \u001b[0;36mconcatenate_fits\u001b[0;34m(flist, output)\u001b[0m\n\u001b[1;32m    203\u001b[0m             \u001b[0mcdat\u001b[0m \u001b[0;34m=\u001b[0m \u001b[0mnp\u001b[0m\u001b[0;34m.\u001b[0m\u001b[0mappend\u001b[0m\u001b[0;34m(\u001b[0m\u001b[0mcdat\u001b[0m\u001b[0;34m,\u001b[0m \u001b[0mdat\u001b[0m\u001b[0;34m)\u001b[0m\u001b[0;34m\u001b[0m\u001b[0;34m\u001b[0m\u001b[0m\n\u001b[1;32m    204\u001b[0m \u001b[0;34m\u001b[0m\u001b[0m\n\u001b[0;32m--> 205\u001b[0;31m     \u001b[0mt\u001b[0m \u001b[0;34m=\u001b[0m \u001b[0mTable\u001b[0m\u001b[0;34m(\u001b[0m\u001b[0mcdat\u001b[0m\u001b[0;34m)\u001b[0m\u001b[0;31m#, names=names)\u001b[0m\u001b[0;34m\u001b[0m\u001b[0;34m\u001b[0m\u001b[0m\n\u001b[0m\u001b[1;32m    206\u001b[0m     \u001b[0mt\u001b[0m\u001b[0;34m.\u001b[0m\u001b[0mwrite\u001b[0m\u001b[0;34m(\u001b[0m\u001b[0moutput\u001b[0m\u001b[0;34m,\u001b[0m \u001b[0moverwrite\u001b[0m\u001b[0;34m=\u001b[0m\u001b[0;32mTrue\u001b[0m\u001b[0;34m)\u001b[0m\u001b[0;34m\u001b[0m\u001b[0;34m\u001b[0m\u001b[0m\n\u001b[1;32m    207\u001b[0m     \u001b[0;32mreturn\u001b[0m \u001b[0mcdat\u001b[0m\u001b[0;34m\u001b[0m\u001b[0;34m\u001b[0m\u001b[0m\n",
      "\u001b[0;31mUnboundLocalError\u001b[0m: local variable 'cdat' referenced before assignment"
     ]
    }
   ],
   "source": [
    "gawa_concatenate(confg)\n",
    "\n",
    "print ('all done folks!')"
   ]
  },
  {
   "cell_type": "code",
   "execution_count": null,
   "metadata": {},
   "outputs": [],
   "source": []
  }
 ],
 "metadata": {
  "kernelspec": {
   "display_name": "Python 3 (ipykernel)",
   "language": "python",
   "name": "python3"
  },
  "language_info": {
   "codemirror_mode": {
    "name": "ipython",
    "version": 3
   },
   "file_extension": ".py",
   "mimetype": "text/x-python",
   "name": "python",
   "nbconvert_exporter": "python",
   "pygments_lexer": "ipython3",
   "version": "3.9.7"
  }
 },
 "nbformat": 4,
 "nbformat_minor": 4
}
